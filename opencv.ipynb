{
  "nbformat": 4,
  "nbformat_minor": 0,
  "metadata": {
    "colab": {
      "name": "opencv.ipynb",
      "provenance": [],
      "collapsed_sections": []
    },
    "kernelspec": {
      "name": "python3",
      "display_name": "Python 3"
    },
    "language_info": {
      "name": "python"
    }
  },
  "cells": [
    {
      "cell_type": "code",
      "metadata": {
        "id": "fX10-uxox8N3"
      },
      "source": [
        "import tensorflow as tf\n",
        "from tensorflow import keras\n",
        "import numpy as np"
      ],
      "execution_count": 7,
      "outputs": []
    },
    {
      "cell_type": "code",
      "metadata": {
        "id": "Bh9MjivLzMKp"
      },
      "source": [
        "fashion_mnist=keras.datasets.fashion_mnist"
      ],
      "execution_count": 8,
      "outputs": []
    },
    {
      "cell_type": "code",
      "metadata": {
        "id": "ghTjKP1ezctQ"
      },
      "source": [
        "(train_images,train_labels),(test_images,test_labels)=fashion_mnist.load_data()"
      ],
      "execution_count": 9,
      "outputs": []
    },
    {
      "cell_type": "code",
      "metadata": {
        "id": "H68zbzk_ztaa"
      },
      "source": [
        "train_images=train_images/255.0\n",
        "test_images=test_images/255.0"
      ],
      "execution_count": 10,
      "outputs": []
    },
    {
      "cell_type": "code",
      "metadata": {
        "colab": {
          "base_uri": "https://localhost:8080/"
        },
        "id": "Kcje4rhX0Aj6",
        "outputId": "dc7f583c-862d-420f-f955-b53067d0bdc4"
      },
      "source": [
        "train_images[0].shape"
      ],
      "execution_count": 11,
      "outputs": [
        {
          "output_type": "execute_result",
          "data": {
            "text/plain": [
              "(28, 28)"
            ]
          },
          "metadata": {
            "tags": []
          },
          "execution_count": 11
        }
      ]
    },
    {
      "cell_type": "code",
      "metadata": {
        "id": "TE5MHvB50MRw"
      },
      "source": [
        "train_images=train_images.reshape(len(train_images),28,28,1)\n",
        "test_images=test_images.reshape(len(test_images),28,28,1)"
      ],
      "execution_count": 12,
      "outputs": []
    },
    {
      "cell_type": "code",
      "metadata": {
        "id": "qyjfl9560j-5"
      },
      "source": [
        "def build_model(hp):\n",
        "  model=keras.Sequential([\n",
        "            keras.layers.Conv2D(\n",
        "                filters=hp.Int('conv_1_filter',min_value=32,max_value=128,step=16),\n",
        "                kernel_size=hp.Choice('conv_1_kernel',values=[3,5]),\n",
        "                activation='relu',\n",
        "                input_shape=(28,28,1)\n",
        "            ),\n",
        "             keras.layers.Conv2D(\n",
        "                filters=hp.Int('conv_2_filter',min_value=32,max_value=64,step=16),\n",
        "                kernel_size=hp.Choice('conv_2_kernel',values=[3,5]),\n",
        "                activation='relu',\n",
        "            ),\n",
        "            keras.layers.Flatten(),\n",
        "             keras.layers.Dense(\n",
        "                units=hp.Int('dense_1_units',min_value=32,max_value=128,step=16),\n",
        "                activation='relu',\n",
        "            ),\n",
        "\n",
        "            keras.layers.Dense(10,activation='softmax')\n",
        "\n",
        "  ])\n",
        "  model.compile(optimizer=keras.optimizers.Adam(hp.Choice('learning_rate',values=[1e-2,1e-3])),loss='sparse_categorical_crossentropy',metrics=['accuracy'])\n",
        "  return model"
      ],
      "execution_count": 13,
      "outputs": []
    },
    {
      "cell_type": "code",
      "metadata": {
        "id": "rcGRDbny42d2"
      },
      "source": [
        "from kerastuner import RandomSearch\n",
        "from kerastuner.engine.hyperparameters import HyperParameters"
      ],
      "execution_count": 14,
      "outputs": []
    },
    {
      "cell_type": "code",
      "metadata": {
        "colab": {
          "base_uri": "https://localhost:8080/"
        },
        "id": "Y_he-cY05R9Z",
        "outputId": "65a6acd9-375a-44f4-feda-7bc4d895a44f"
      },
      "source": [
        "tuner_search=RandomSearch(build_model,objective='val_accuracy',max_trials=5,directory='output1',project_name=\"Mnist Fashion\")"
      ],
      "execution_count": 15,
      "outputs": [
        {
          "output_type": "stream",
          "text": [
            "INFO:tensorflow:Reloading Oracle from existing project output1/Mnist Fashion/oracle.json\n",
            "INFO:tensorflow:Reloading Tuner from output1/Mnist Fashion/tuner0.json\n"
          ],
          "name": "stdout"
        }
      ]
    },
    {
      "cell_type": "code",
      "metadata": {
        "id": "wKAhGw2i5xsy",
        "colab": {
          "base_uri": "https://localhost:8080/"
        },
        "outputId": "9b54bd4e-4a61-4a2f-f9cd-fb9b8c80ef86"
      },
      "source": [
        "tuner_search.search(train_images,train_labels,epochs=3,validation_split=0.1)"
      ],
      "execution_count": null,
      "outputs": [
        {
          "output_type": "stream",
          "text": [
            "\n",
            "Search: Running Trial #1\n",
            "\n",
            "Hyperparameter    |Value             |Best Value So Far \n",
            "conv_1_filter     |112               |64                \n",
            "conv_1_kernel     |5                 |3                 \n",
            "conv_2_filter     |64                |32                \n",
            "conv_2_kernel     |5                 |3                 \n",
            "dense_1_units     |80                |48                \n",
            "learning_rate     |0.001             |0.001             \n",
            "\n",
            "Epoch 1/3\n",
            "  90/1688 [>.............................] - ETA: 7:43 - loss: 0.8351 - accuracy: 0.6997"
          ],
          "name": "stdout"
        }
      ]
    },
    {
      "cell_type": "code",
      "metadata": {
        "id": "iifoM9Yr9eXX"
      },
      "source": [
        "model=tuner_search.get_best_models(num_models=1)[0]"
      ],
      "execution_count": null,
      "outputs": []
    },
    {
      "cell_type": "code",
      "metadata": {
        "id": "2b9bg3g99xnC"
      },
      "source": [
        "model.summary()"
      ],
      "execution_count": null,
      "outputs": []
    },
    {
      "cell_type": "code",
      "metadata": {
        "id": "CFMCMX3xANis"
      },
      "source": [
        ""
      ],
      "execution_count": null,
      "outputs": []
    }
  ]
}